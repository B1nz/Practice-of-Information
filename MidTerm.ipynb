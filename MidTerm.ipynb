{
 "cells": [
  {
   "cell_type": "markdown",
   "metadata": {},
   "source": [
    "# MidTerm Exam Practice of Information"
   ]
  },
  {
   "cell_type": "markdown",
   "metadata": {},
   "source": [
    "#### 1. What is the formal definition of machine learning by Professor Mitchell in terms of the following two descriptions:"
   ]
  },
  {
   "cell_type": "markdown",
   "metadata": {},
   "source": [
    "a. Text description"
   ]
  },
  {
   "cell_type": "markdown",
   "metadata": {},
   "source": [
    "> A computer program is said to learn from experience E with respect to some class of task T and performance measure P, if its performanceat task T, as measured by P, improves with the experience E"
   ]
  },
  {
   "cell_type": "markdown",
   "metadata": {},
   "source": [
    "b. Graphical ilustration"
   ]
  },
  {
   "cell_type": "markdown",
   "metadata": {},
   "source": [
    "> ![Model Graph](https://www.tutorialspoint.com/machine_learning_with_python/images/machine_learning_model.jpg)"
   ]
  },
  {
   "cell_type": "markdown",
   "metadata": {},
   "source": [
    "#### 2. In the following you will complete the machine learning preparation steps"
   ]
  },
  {
   "cell_type": "markdown",
   "metadata": {},
   "source": [
    "a. What are those basics steps for implementing a machine learning project?"
   ]
  },
  {
   "cell_type": "markdown",
   "metadata": {},
   "source": [
    ">   - Define problems\n",
    ">    - Prepare data\n",
    ">    - Evaluate algorithms\n",
    ">    - Improve results\n",
    ">    - Present results"
   ]
  },
  {
   "cell_type": "markdown",
   "metadata": {},
   "source": [
    "b. What are the basics criteria set for your data to be ready for data science"
   ]
  },
  {
   "cell_type": "markdown",
   "metadata": {},
   "source": [
    "> - Relevant\n",
    "> - Connected\n",
    "> - Accurate\n",
    "> - Enough to work with"
   ]
  },
  {
   "cell_type": "markdown",
   "metadata": {},
   "source": [
    "#### 3. Having study the machine learning patterns"
   ]
  },
  {
   "cell_type": "markdown",
   "metadata": {},
   "source": [
    "a. What are the 'main characteristics' for the supervised, unsupervised, and reinforcementpattern in machine learning"
   ]
  },
  {
   "cell_type": "markdown",
   "metadata": {},
   "source": [
    "> - Supervised      : Supervised learning implies the computer ability to recognize elements based on the provided samples. The computer studies it and develops the ability to recognize new data based on this data. For example, you can train your computer to filter spam messages based on previously received information.\n",
    ">\n",
    "> - Unsepervised    : Unlike supervised learning, where the machine is provided with some verification data for learning, independent Unsupervised learning implies that the computer itself will find patterns and relationships between different data sets. \n",
    ">\n",
    "> - Reinforcement   : Reinforcement learning was inspired by how the brains of rats and humans respond to punishment and rewards. These algorithms learn from outcomes, and decide on the next action."
   ]
  },
  {
   "cell_type": "markdown",
   "metadata": {},
   "source": [
    "b. Please provide 5 types of supervised machine learning"
   ]
  },
  {
   "cell_type": "markdown",
   "metadata": {},
   "source": [
    "> - Linear regression\n",
    "> - Regression trees\n",
    "> - Polynomial regression\n",
    "> - Random forest\n",
    "> - Decision tree\n",
    "> - Non-Linear regression\n",
    "> - Bayesian Linear regression\n",
    "> - Logistic regression\n",
    "> - Support vector machine"
   ]
  },
  {
   "cell_type": "markdown",
   "metadata": {},
   "source": [
    "#### 4. Please describe the basic process that are used to implement the decision tree algorithm"
   ]
  },
  {
   "cell_type": "markdown",
   "metadata": {},
   "source": [
    "> - Importing the required libraries\n",
    "> - Loading data\n",
    "> - Feature selection\n",
    "> - Splitting data\n",
    "> - Building the decision tree model\n",
    "> - Evaluating model\n",
    "> - Visualizing the decision tree\n",
    "> - Optimizing the decision tree performance"
   ]
  },
  {
   "cell_type": "markdown",
   "metadata": {},
   "source": [
    "#### 5. Calculate"
   ]
  },
  {
   "cell_type": "markdown",
   "metadata": {},
   "source": [
    "![Img 1](https://machinelearningmastery.ru/img/0-199465-3498.png)"
   ]
  },
  {
   "cell_type": "markdown",
   "metadata": {},
   "source": [
    "> ![ans 1](https://machinelearningmastery.ru/img/0-517323-607916.png)"
   ]
  },
  {
   "cell_type": "markdown",
   "metadata": {},
   "source": [
    "![Img 2](https://machinelearningmastery.ru/img/0-841605-107956.png)"
   ]
  },
  {
   "cell_type": "markdown",
   "metadata": {},
   "source": [
    "> ![ans 2](https://machinelearningmastery.ru/img/0-517323-607916.png)"
   ]
  }
 ],
 "metadata": {
  "kernelspec": {
   "display_name": "Python 3 (ipykernel)",
   "language": "python",
   "name": "python3"
  },
  "language_info": {
   "codemirror_mode": {
    "name": "ipython",
    "version": 3
   },
   "file_extension": ".py",
   "mimetype": "text/x-python",
   "name": "python",
   "nbconvert_exporter": "python",
   "pygments_lexer": "ipython3",
   "version": "3.10.6"
  },
  "vscode": {
   "interpreter": {
    "hash": "ddf060e8d47545f220c5eae7c9a1bf428419a00e98903e23996e5de4f4553c52"
   }
  }
 },
 "nbformat": 4,
 "nbformat_minor": 4
}
