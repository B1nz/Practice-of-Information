{
 "cells": [
  {
   "cell_type": "code",
   "execution_count": 26,
   "metadata": {},
   "outputs": [],
   "source": [
    "'''\n",
    "Suppose we have a dataset of weather conditions and corresponding target variable \"Play\". So using this dataset we need to decide that whether we should play or not on a particular day according to the weather conditions.\n",
    "\n",
    "1. Data Pre-processing step\n",
    "2. Fitting Naive Bayes to the Training set\n",
    "3. Predicting the test result\n",
    "4. Test accuracy of the result(Creation of Confusion matrix)\n",
    "5. Visualizing the test set result.\n",
    "'''\n",
    "\n",
    "# importing the libraries\n",
    "import numpy as np\n",
    "import matplotlib.pyplot as plt\n",
    "import pandas as pd"
   ]
  },
  {
   "cell_type": "code",
   "execution_count": 27,
   "metadata": {},
   "outputs": [
    {
     "name": "stdout",
     "output_type": "stream",
     "text": [
      "          STA        Date Precip  WindGustSpd    MaxTemp    MinTemp  \\\n",
      "0       10001    1942-7-1  1.016          NaN  25.555556  22.222222   \n",
      "1       10001    1942-7-2      0          NaN  28.888889  21.666667   \n",
      "2       10001    1942-7-3   2.54          NaN  26.111111  22.222222   \n",
      "3       10001    1942-7-4   2.54          NaN  26.666667  22.222222   \n",
      "4       10001    1942-7-5      0          NaN  26.666667  21.666667   \n",
      "...       ...         ...    ...          ...        ...        ...   \n",
      "119035  82506  1945-12-27      0          NaN  28.333333  18.333333   \n",
      "119036  82506  1945-12-28  9.906          NaN  29.444444  18.333333   \n",
      "119037  82506  1945-12-29      0          NaN  28.333333  18.333333   \n",
      "119038  82506  1945-12-30      0          NaN  28.333333  18.333333   \n",
      "119039  82506  1945-12-31      0          NaN  29.444444  17.222222   \n",
      "\n",
      "         MeanTemp Snowfall PoorWeather  YR  ...  FB  FTI ITH  PGT  TSHDSBRSGF  \\\n",
      "0       23.888889      0.0         NaN  42  ... NaN  NaN NaN  NaN         NaN   \n",
      "1       25.555556      0.0         NaN  42  ... NaN  NaN NaN  NaN         NaN   \n",
      "2       24.444444      0.0         NaN  42  ... NaN  NaN NaN  NaN         NaN   \n",
      "3       24.444444      0.0         NaN  42  ... NaN  NaN NaN  NaN         NaN   \n",
      "4       24.444444      0.0         NaN  42  ... NaN  NaN NaN  NaN         NaN   \n",
      "...           ...      ...         ...  ..  ...  ..  ...  ..  ...         ...   \n",
      "119035  23.333333      0.0         NaN  45  ... NaN  NaN NaN  NaN         NaN   \n",
      "119036  23.888889      0.0         1.0  45  ... NaN  NaN NaN  NaN         1.0   \n",
      "119037  23.333333      0.0         1.0  45  ... NaN  NaN NaN  NaN         1.0   \n",
      "119038  23.333333      0.0         NaN  45  ... NaN  NaN NaN  NaN         NaN   \n",
      "119039  23.333333      0.0         NaN  45  ... NaN  NaN NaN  NaN         NaN   \n",
      "\n",
      "        SD3  RHX  RHN RVG  WTE  \n",
      "0       NaN  NaN  NaN NaN  NaN  \n",
      "1       NaN  NaN  NaN NaN  NaN  \n",
      "2       NaN  NaN  NaN NaN  NaN  \n",
      "3       NaN  NaN  NaN NaN  NaN  \n",
      "4       NaN  NaN  NaN NaN  NaN  \n",
      "...     ...  ...  ...  ..  ...  \n",
      "119035  NaN  NaN  NaN NaN  NaN  \n",
      "119036  NaN  NaN  NaN NaN  NaN  \n",
      "119037  NaN  NaN  NaN NaN  NaN  \n",
      "119038  NaN  NaN  NaN NaN  NaN  \n",
      "119039  NaN  NaN  NaN NaN  NaN  \n",
      "\n",
      "[119040 rows x 31 columns]\n"
     ]
    },
    {
     "name": "stderr",
     "output_type": "stream",
     "text": [
      "/var/folders/fd/1mv0d7g16sx55cwb0hmjv94c0000gn/T/ipykernel_42685/416973151.py:5: DtypeWarning: Columns (7,8,18,25) have mixed types. Specify dtype option on import or set low_memory=False.\n",
      "  dataset = pd.read_csv('naive_bayes_classification/weather.csv')\n"
     ]
    }
   ],
   "source": [
    "# Importing the dataset\n",
    "# read file in Google Colab\n",
    "#drive.mount('/content/drive/')\n",
    "#%cd /content/drive/My Drive/MachineLearning/\n",
    "dataset = pd.read_csv('naive_bayes_classification/weather.csv')\n",
    "x = dataset.iloc[:, [2, 3]].values\n",
    "y = dataset.iloc[:, 4].values # taken all the rows with the last column only\n",
    "\n",
    "print(dataset)"
   ]
  },
  {
   "cell_type": "code",
   "execution_count": 28,
   "metadata": {},
   "outputs": [],
   "source": [
    "# Splitting the dataset into the Training set and Test set\n",
    "from sklearn.model_selection import train_test_split\n",
    "x_train, x_test, y_train, y_test = train_test_split(x, y, test_size = 0.25, random_state = 0)"
   ]
  },
  {
   "cell_type": "code",
   "execution_count": 29,
   "metadata": {},
   "outputs": [
    {
     "ename": "ValueError",
     "evalue": "could not convert string to float: 'T'",
     "output_type": "error",
     "traceback": [
      "\u001b[0;31m---------------------------------------------------------------------------\u001b[0m",
      "\u001b[0;31mValueError\u001b[0m                                Traceback (most recent call last)",
      "\u001b[1;32m/Users/gluthfi/Documents/College/Practice of Information/Exercise 3.ipynb Cell 4\u001b[0m in \u001b[0;36m<cell line: 4>\u001b[0;34m()\u001b[0m\n\u001b[1;32m      <a href='vscode-notebook-cell:/Users/gluthfi/Documents/College/Practice%20of%20Information/Exercise%203.ipynb#W4sZmlsZQ%3D%3D?line=1'>2</a>\u001b[0m \u001b[39mfrom\u001b[39;00m \u001b[39msklearn\u001b[39;00m\u001b[39m.\u001b[39;00m\u001b[39mpreprocessing\u001b[39;00m \u001b[39mimport\u001b[39;00m StandardScaler\n\u001b[1;32m      <a href='vscode-notebook-cell:/Users/gluthfi/Documents/College/Practice%20of%20Information/Exercise%203.ipynb#W4sZmlsZQ%3D%3D?line=2'>3</a>\u001b[0m sc \u001b[39m=\u001b[39m StandardScaler()\n\u001b[0;32m----> <a href='vscode-notebook-cell:/Users/gluthfi/Documents/College/Practice%20of%20Information/Exercise%203.ipynb#W4sZmlsZQ%3D%3D?line=3'>4</a>\u001b[0m x_train \u001b[39m=\u001b[39m sc\u001b[39m.\u001b[39;49mfit_transform(x_train)\n\u001b[1;32m      <a href='vscode-notebook-cell:/Users/gluthfi/Documents/College/Practice%20of%20Information/Exercise%203.ipynb#W4sZmlsZQ%3D%3D?line=4'>5</a>\u001b[0m x_test \u001b[39m=\u001b[39m sc\u001b[39m.\u001b[39mtransform(x_test)\n",
      "File \u001b[0;32m~/opt/miniconda3/lib/python3.9/site-packages/sklearn/base.py:867\u001b[0m, in \u001b[0;36mTransformerMixin.fit_transform\u001b[0;34m(self, X, y, **fit_params)\u001b[0m\n\u001b[1;32m    863\u001b[0m \u001b[39m# non-optimized default implementation; override when a better\u001b[39;00m\n\u001b[1;32m    864\u001b[0m \u001b[39m# method is possible for a given clustering algorithm\u001b[39;00m\n\u001b[1;32m    865\u001b[0m \u001b[39mif\u001b[39;00m y \u001b[39mis\u001b[39;00m \u001b[39mNone\u001b[39;00m:\n\u001b[1;32m    866\u001b[0m     \u001b[39m# fit method of arity 1 (unsupervised transformation)\u001b[39;00m\n\u001b[0;32m--> 867\u001b[0m     \u001b[39mreturn\u001b[39;00m \u001b[39mself\u001b[39;49m\u001b[39m.\u001b[39;49mfit(X, \u001b[39m*\u001b[39;49m\u001b[39m*\u001b[39;49mfit_params)\u001b[39m.\u001b[39mtransform(X)\n\u001b[1;32m    868\u001b[0m \u001b[39melse\u001b[39;00m:\n\u001b[1;32m    869\u001b[0m     \u001b[39m# fit method of arity 2 (supervised transformation)\u001b[39;00m\n\u001b[1;32m    870\u001b[0m     \u001b[39mreturn\u001b[39;00m \u001b[39mself\u001b[39m\u001b[39m.\u001b[39mfit(X, y, \u001b[39m*\u001b[39m\u001b[39m*\u001b[39mfit_params)\u001b[39m.\u001b[39mtransform(X)\n",
      "File \u001b[0;32m~/opt/miniconda3/lib/python3.9/site-packages/sklearn/preprocessing/_data.py:809\u001b[0m, in \u001b[0;36mStandardScaler.fit\u001b[0;34m(self, X, y, sample_weight)\u001b[0m\n\u001b[1;32m    807\u001b[0m \u001b[39m# Reset internal state before fitting\u001b[39;00m\n\u001b[1;32m    808\u001b[0m \u001b[39mself\u001b[39m\u001b[39m.\u001b[39m_reset()\n\u001b[0;32m--> 809\u001b[0m \u001b[39mreturn\u001b[39;00m \u001b[39mself\u001b[39;49m\u001b[39m.\u001b[39;49mpartial_fit(X, y, sample_weight)\n",
      "File \u001b[0;32m~/opt/miniconda3/lib/python3.9/site-packages/sklearn/preprocessing/_data.py:844\u001b[0m, in \u001b[0;36mStandardScaler.partial_fit\u001b[0;34m(self, X, y, sample_weight)\u001b[0m\n\u001b[1;32m    812\u001b[0m \u001b[39m\"\"\"Online computation of mean and std on X for later scaling.\u001b[39;00m\n\u001b[1;32m    813\u001b[0m \n\u001b[1;32m    814\u001b[0m \u001b[39mAll of X is processed as a single batch. This is intended for cases\u001b[39;00m\n\u001b[0;32m   (...)\u001b[0m\n\u001b[1;32m    841\u001b[0m \u001b[39m    Fitted scaler.\u001b[39;00m\n\u001b[1;32m    842\u001b[0m \u001b[39m\"\"\"\u001b[39;00m\n\u001b[1;32m    843\u001b[0m first_call \u001b[39m=\u001b[39m \u001b[39mnot\u001b[39;00m \u001b[39mhasattr\u001b[39m(\u001b[39mself\u001b[39m, \u001b[39m\"\u001b[39m\u001b[39mn_samples_seen_\u001b[39m\u001b[39m\"\u001b[39m)\n\u001b[0;32m--> 844\u001b[0m X \u001b[39m=\u001b[39m \u001b[39mself\u001b[39;49m\u001b[39m.\u001b[39;49m_validate_data(\n\u001b[1;32m    845\u001b[0m     X,\n\u001b[1;32m    846\u001b[0m     accept_sparse\u001b[39m=\u001b[39;49m(\u001b[39m\"\u001b[39;49m\u001b[39mcsr\u001b[39;49m\u001b[39m\"\u001b[39;49m, \u001b[39m\"\u001b[39;49m\u001b[39mcsc\u001b[39;49m\u001b[39m\"\u001b[39;49m),\n\u001b[1;32m    847\u001b[0m     dtype\u001b[39m=\u001b[39;49mFLOAT_DTYPES,\n\u001b[1;32m    848\u001b[0m     force_all_finite\u001b[39m=\u001b[39;49m\u001b[39m\"\u001b[39;49m\u001b[39mallow-nan\u001b[39;49m\u001b[39m\"\u001b[39;49m,\n\u001b[1;32m    849\u001b[0m     reset\u001b[39m=\u001b[39;49mfirst_call,\n\u001b[1;32m    850\u001b[0m )\n\u001b[1;32m    851\u001b[0m n_features \u001b[39m=\u001b[39m X\u001b[39m.\u001b[39mshape[\u001b[39m1\u001b[39m]\n\u001b[1;32m    853\u001b[0m \u001b[39mif\u001b[39;00m sample_weight \u001b[39mis\u001b[39;00m \u001b[39mnot\u001b[39;00m \u001b[39mNone\u001b[39;00m:\n",
      "File \u001b[0;32m~/opt/miniconda3/lib/python3.9/site-packages/sklearn/base.py:577\u001b[0m, in \u001b[0;36mBaseEstimator._validate_data\u001b[0;34m(self, X, y, reset, validate_separately, **check_params)\u001b[0m\n\u001b[1;32m    575\u001b[0m     \u001b[39mraise\u001b[39;00m \u001b[39mValueError\u001b[39;00m(\u001b[39m\"\u001b[39m\u001b[39mValidation should be done on X, y or both.\u001b[39m\u001b[39m\"\u001b[39m)\n\u001b[1;32m    576\u001b[0m \u001b[39melif\u001b[39;00m \u001b[39mnot\u001b[39;00m no_val_X \u001b[39mand\u001b[39;00m no_val_y:\n\u001b[0;32m--> 577\u001b[0m     X \u001b[39m=\u001b[39m check_array(X, input_name\u001b[39m=\u001b[39;49m\u001b[39m\"\u001b[39;49m\u001b[39mX\u001b[39;49m\u001b[39m\"\u001b[39;49m, \u001b[39m*\u001b[39;49m\u001b[39m*\u001b[39;49mcheck_params)\n\u001b[1;32m    578\u001b[0m     out \u001b[39m=\u001b[39m X\n\u001b[1;32m    579\u001b[0m \u001b[39melif\u001b[39;00m no_val_X \u001b[39mand\u001b[39;00m \u001b[39mnot\u001b[39;00m no_val_y:\n",
      "File \u001b[0;32m~/opt/miniconda3/lib/python3.9/site-packages/sklearn/utils/validation.py:856\u001b[0m, in \u001b[0;36mcheck_array\u001b[0;34m(array, accept_sparse, accept_large_sparse, dtype, order, copy, force_all_finite, ensure_2d, allow_nd, ensure_min_samples, ensure_min_features, estimator, input_name)\u001b[0m\n\u001b[1;32m    854\u001b[0m         array \u001b[39m=\u001b[39m array\u001b[39m.\u001b[39mastype(dtype, casting\u001b[39m=\u001b[39m\u001b[39m\"\u001b[39m\u001b[39munsafe\u001b[39m\u001b[39m\"\u001b[39m, copy\u001b[39m=\u001b[39m\u001b[39mFalse\u001b[39;00m)\n\u001b[1;32m    855\u001b[0m     \u001b[39melse\u001b[39;00m:\n\u001b[0;32m--> 856\u001b[0m         array \u001b[39m=\u001b[39m np\u001b[39m.\u001b[39;49masarray(array, order\u001b[39m=\u001b[39;49morder, dtype\u001b[39m=\u001b[39;49mdtype)\n\u001b[1;32m    857\u001b[0m \u001b[39mexcept\u001b[39;00m ComplexWarning \u001b[39mas\u001b[39;00m complex_warning:\n\u001b[1;32m    858\u001b[0m     \u001b[39mraise\u001b[39;00m \u001b[39mValueError\u001b[39;00m(\n\u001b[1;32m    859\u001b[0m         \u001b[39m\"\u001b[39m\u001b[39mComplex data not supported\u001b[39m\u001b[39m\\n\u001b[39;00m\u001b[39m{}\u001b[39;00m\u001b[39m\\n\u001b[39;00m\u001b[39m\"\u001b[39m\u001b[39m.\u001b[39mformat(array)\n\u001b[1;32m    860\u001b[0m     ) \u001b[39mfrom\u001b[39;00m \u001b[39mcomplex_warning\u001b[39;00m\n",
      "\u001b[0;31mValueError\u001b[0m: could not convert string to float: 'T'"
     ]
    }
   ],
   "source": [
    "# Feature Scaling\n",
    "from sklearn.preprocessing import StandardScaler\n",
    "sc = StandardScaler()\n",
    "x_train = sc.fit_transform(x_train)\n",
    "x_test = sc.transform(x_test)"
   ]
  },
  {
   "cell_type": "code",
   "execution_count": null,
   "metadata": {},
   "outputs": [
    {
     "ename": "ValueError",
     "evalue": "Unknown label type: (array([-33.33333333, -32.77777778, -31.66666667, -31.11111111,\n       -30.55555556, -30.        , -28.88888889, -27.77777778,\n       -27.22222222, -26.11111111, -25.55555556, -25.        ,\n       -24.44444444, -23.88888889, -23.33333333, -22.77777778,\n       -22.22222222, -21.66666667, -21.11111111, -20.55555556,\n       -20.        , -19.44444444, -18.88888889, -18.33333333,\n       -17.77777778, -17.22222222, -16.66666667, -16.11111111,\n       -15.55555556, -15.        , -14.44444444, -13.88888889,\n       -13.33333333, -12.77777778, -12.22222222, -11.66666667,\n       -11.11111111, -10.55555556, -10.        ,  -9.44444444,\n        -8.88888889,  -8.33333333,  -7.77777778,  -7.22222222,\n        -6.66666667,  -6.11111111,  -5.55555556,  -5.        ,\n        -4.44444444,  -3.88888889,  -3.33333333,  -2.77777778,\n        -2.22222222,  -1.66666667,  -1.11111111,  -0.55555556,\n         0.        ,   0.55555556,   1.11111111,   1.66666667,\n         2.22222222,   2.77777778,   3.33333333,   3.88888889,\n         4.44444444,   5.        ,   5.55555556,   6.11111111,\n         6.66666667,   7.22222222,   7.77777778,   8.33333333,\n         8.88888889,   9.44444444,  10.        ,  10.55555556,\n        11.11111111,  11.66666667,  12.22222222,  12.77777778,\n        13.33333333,  13.88888889,  14.44444444,  15.        ,\n        15.55555556,  16.11111111,  16.66666667,  17.22222222,\n        17.77777778,  18.33333333,  18.88888889,  19.44444444,\n        20.        ,  20.55555556,  21.11111111,  21.66666667,\n        22.22222222,  22.77777778,  23.33333333,  23.88888889,\n        24.44444444,  25.        ,  25.55555556,  26.11111111,\n        26.66666667,  27.22222222,  27.77777778,  28.33333333,\n        28.88888889,  29.44444444,  30.        ,  30.55555556,\n        31.11111111,  31.66666667,  32.22222222,  32.77777778,\n        33.33333333,  33.88888889,  34.44444444,  35.        ,\n        35.55555556,  36.11111111,  36.66666667,  37.22222222,\n        37.77777778,  38.33333333,  38.88888889,  39.44444444,\n        40.        ,  40.55555556,  41.11111111,  41.66666667,\n        42.22222222,  42.77777778,  43.33333333,  43.88888889,\n        44.44444444,  45.        ,  45.55555556,  46.11111111,\n        46.66666667,  47.22222222,  47.77777778,  48.33333333,\n        48.88888889,  49.44444444,  50.        ]),)",
     "output_type": "error",
     "traceback": [
      "\u001b[0;31m---------------------------------------------------------------------------\u001b[0m",
      "\u001b[0;31mValueError\u001b[0m                                Traceback (most recent call last)",
      "\u001b[1;32m/Users/gluthfi/Documents/College/Practice of Information/Exercise 3.ipynb Cell 5\u001b[0m in \u001b[0;36m<cell line: 4>\u001b[0;34m()\u001b[0m\n\u001b[1;32m      <a href='vscode-notebook-cell:/Users/gluthfi/Documents/College/Practice%20of%20Information/Exercise%203.ipynb#W5sZmlsZQ%3D%3D?line=1'>2</a>\u001b[0m \u001b[39mfrom\u001b[39;00m \u001b[39msklearn\u001b[39;00m\u001b[39m.\u001b[39;00m\u001b[39mnaive_bayes\u001b[39;00m \u001b[39mimport\u001b[39;00m GaussianNB\n\u001b[1;32m      <a href='vscode-notebook-cell:/Users/gluthfi/Documents/College/Practice%20of%20Information/Exercise%203.ipynb#W5sZmlsZQ%3D%3D?line=2'>3</a>\u001b[0m classifier \u001b[39m=\u001b[39m GaussianNB()\n\u001b[0;32m----> <a href='vscode-notebook-cell:/Users/gluthfi/Documents/College/Practice%20of%20Information/Exercise%203.ipynb#W5sZmlsZQ%3D%3D?line=3'>4</a>\u001b[0m classifier\u001b[39m.\u001b[39;49mfit(x_train, y_train)\n\u001b[1;32m      <a href='vscode-notebook-cell:/Users/gluthfi/Documents/College/Practice%20of%20Information/Exercise%203.ipynb#W5sZmlsZQ%3D%3D?line=5'>6</a>\u001b[0m \u001b[39m# Predicting the Test set results\u001b[39;00m\n\u001b[1;32m      <a href='vscode-notebook-cell:/Users/gluthfi/Documents/College/Practice%20of%20Information/Exercise%203.ipynb#W5sZmlsZQ%3D%3D?line=6'>7</a>\u001b[0m y_pred \u001b[39m=\u001b[39m classifier\u001b[39m.\u001b[39mpredict(x_test)\n",
      "File \u001b[0;32m~/opt/miniconda3/lib/python3.9/site-packages/sklearn/naive_bayes.py:243\u001b[0m, in \u001b[0;36mGaussianNB.fit\u001b[0;34m(self, X, y, sample_weight)\u001b[0m\n\u001b[1;32m    220\u001b[0m \u001b[39m\"\"\"Fit Gaussian Naive Bayes according to X, y.\u001b[39;00m\n\u001b[1;32m    221\u001b[0m \n\u001b[1;32m    222\u001b[0m \u001b[39mParameters\u001b[39;00m\n\u001b[0;32m   (...)\u001b[0m\n\u001b[1;32m    240\u001b[0m \u001b[39m    Returns the instance itself.\u001b[39;00m\n\u001b[1;32m    241\u001b[0m \u001b[39m\"\"\"\u001b[39;00m\n\u001b[1;32m    242\u001b[0m y \u001b[39m=\u001b[39m \u001b[39mself\u001b[39m\u001b[39m.\u001b[39m_validate_data(y\u001b[39m=\u001b[39my)\n\u001b[0;32m--> 243\u001b[0m \u001b[39mreturn\u001b[39;00m \u001b[39mself\u001b[39;49m\u001b[39m.\u001b[39;49m_partial_fit(\n\u001b[1;32m    244\u001b[0m     X, y, np\u001b[39m.\u001b[39;49munique(y), _refit\u001b[39m=\u001b[39;49m\u001b[39mTrue\u001b[39;49;00m, sample_weight\u001b[39m=\u001b[39;49msample_weight\n\u001b[1;32m    245\u001b[0m )\n",
      "File \u001b[0;32m~/opt/miniconda3/lib/python3.9/site-packages/sklearn/naive_bayes.py:399\u001b[0m, in \u001b[0;36mGaussianNB._partial_fit\u001b[0;34m(self, X, y, classes, _refit, sample_weight)\u001b[0m\n\u001b[1;32m    396\u001b[0m \u001b[39mif\u001b[39;00m _refit:\n\u001b[1;32m    397\u001b[0m     \u001b[39mself\u001b[39m\u001b[39m.\u001b[39mclasses_ \u001b[39m=\u001b[39m \u001b[39mNone\u001b[39;00m\n\u001b[0;32m--> 399\u001b[0m first_call \u001b[39m=\u001b[39m _check_partial_fit_first_call(\u001b[39mself\u001b[39;49m, classes)\n\u001b[1;32m    400\u001b[0m X, y \u001b[39m=\u001b[39m \u001b[39mself\u001b[39m\u001b[39m.\u001b[39m_validate_data(X, y, reset\u001b[39m=\u001b[39mfirst_call)\n\u001b[1;32m    401\u001b[0m \u001b[39mif\u001b[39;00m sample_weight \u001b[39mis\u001b[39;00m \u001b[39mnot\u001b[39;00m \u001b[39mNone\u001b[39;00m:\n",
      "File \u001b[0;32m~/opt/miniconda3/lib/python3.9/site-packages/sklearn/utils/multiclass.py:368\u001b[0m, in \u001b[0;36m_check_partial_fit_first_call\u001b[0;34m(clf, classes)\u001b[0m\n\u001b[1;32m    361\u001b[0m             \u001b[39mraise\u001b[39;00m \u001b[39mValueError\u001b[39;00m(\n\u001b[1;32m    362\u001b[0m                 \u001b[39m\"\u001b[39m\u001b[39m`classes=\u001b[39m\u001b[39m%r\u001b[39;00m\u001b[39m` is not the same as on last call \u001b[39m\u001b[39m\"\u001b[39m\n\u001b[1;32m    363\u001b[0m                 \u001b[39m\"\u001b[39m\u001b[39mto partial_fit, was: \u001b[39m\u001b[39m%r\u001b[39;00m\u001b[39m\"\u001b[39m \u001b[39m%\u001b[39m (classes, clf\u001b[39m.\u001b[39mclasses_)\n\u001b[1;32m    364\u001b[0m             )\n\u001b[1;32m    366\u001b[0m     \u001b[39melse\u001b[39;00m:\n\u001b[1;32m    367\u001b[0m         \u001b[39m# This is the first call to partial_fit\u001b[39;00m\n\u001b[0;32m--> 368\u001b[0m         clf\u001b[39m.\u001b[39mclasses_ \u001b[39m=\u001b[39m unique_labels(classes)\n\u001b[1;32m    369\u001b[0m         \u001b[39mreturn\u001b[39;00m \u001b[39mTrue\u001b[39;00m\n\u001b[1;32m    371\u001b[0m \u001b[39m# classes is None and clf.classes_ has already previously been set:\u001b[39;00m\n\u001b[1;32m    372\u001b[0m \u001b[39m# nothing to do\u001b[39;00m\n",
      "File \u001b[0;32m~/opt/miniconda3/lib/python3.9/site-packages/sklearn/utils/multiclass.py:103\u001b[0m, in \u001b[0;36munique_labels\u001b[0;34m(*ys)\u001b[0m\n\u001b[1;32m    101\u001b[0m _unique_labels \u001b[39m=\u001b[39m _FN_UNIQUE_LABELS\u001b[39m.\u001b[39mget(label_type, \u001b[39mNone\u001b[39;00m)\n\u001b[1;32m    102\u001b[0m \u001b[39mif\u001b[39;00m \u001b[39mnot\u001b[39;00m _unique_labels:\n\u001b[0;32m--> 103\u001b[0m     \u001b[39mraise\u001b[39;00m \u001b[39mValueError\u001b[39;00m(\u001b[39m\"\u001b[39m\u001b[39mUnknown label type: \u001b[39m\u001b[39m%s\u001b[39;00m\u001b[39m\"\u001b[39m \u001b[39m%\u001b[39m \u001b[39mrepr\u001b[39m(ys))\n\u001b[1;32m    105\u001b[0m ys_labels \u001b[39m=\u001b[39m \u001b[39mset\u001b[39m(chain\u001b[39m.\u001b[39mfrom_iterable(_unique_labels(y) \u001b[39mfor\u001b[39;00m y \u001b[39min\u001b[39;00m ys))\n\u001b[1;32m    107\u001b[0m \u001b[39m# Check that we don't mix string type with number type\u001b[39;00m\n",
      "\u001b[0;31mValueError\u001b[0m: Unknown label type: (array([-33.33333333, -32.77777778, -31.66666667, -31.11111111,\n       -30.55555556, -30.        , -28.88888889, -27.77777778,\n       -27.22222222, -26.11111111, -25.55555556, -25.        ,\n       -24.44444444, -23.88888889, -23.33333333, -22.77777778,\n       -22.22222222, -21.66666667, -21.11111111, -20.55555556,\n       -20.        , -19.44444444, -18.88888889, -18.33333333,\n       -17.77777778, -17.22222222, -16.66666667, -16.11111111,\n       -15.55555556, -15.        , -14.44444444, -13.88888889,\n       -13.33333333, -12.77777778, -12.22222222, -11.66666667,\n       -11.11111111, -10.55555556, -10.        ,  -9.44444444,\n        -8.88888889,  -8.33333333,  -7.77777778,  -7.22222222,\n        -6.66666667,  -6.11111111,  -5.55555556,  -5.        ,\n        -4.44444444,  -3.88888889,  -3.33333333,  -2.77777778,\n        -2.22222222,  -1.66666667,  -1.11111111,  -0.55555556,\n         0.        ,   0.55555556,   1.11111111,   1.66666667,\n         2.22222222,   2.77777778,   3.33333333,   3.88888889,\n         4.44444444,   5.        ,   5.55555556,   6.11111111,\n         6.66666667,   7.22222222,   7.77777778,   8.33333333,\n         8.88888889,   9.44444444,  10.        ,  10.55555556,\n        11.11111111,  11.66666667,  12.22222222,  12.77777778,\n        13.33333333,  13.88888889,  14.44444444,  15.        ,\n        15.55555556,  16.11111111,  16.66666667,  17.22222222,\n        17.77777778,  18.33333333,  18.88888889,  19.44444444,\n        20.        ,  20.55555556,  21.11111111,  21.66666667,\n        22.22222222,  22.77777778,  23.33333333,  23.88888889,\n        24.44444444,  25.        ,  25.55555556,  26.11111111,\n        26.66666667,  27.22222222,  27.77777778,  28.33333333,\n        28.88888889,  29.44444444,  30.        ,  30.55555556,\n        31.11111111,  31.66666667,  32.22222222,  32.77777778,\n        33.33333333,  33.88888889,  34.44444444,  35.        ,\n        35.55555556,  36.11111111,  36.66666667,  37.22222222,\n        37.77777778,  38.33333333,  38.88888889,  39.44444444,\n        40.        ,  40.55555556,  41.11111111,  41.66666667,\n        42.22222222,  42.77777778,  43.33333333,  43.88888889,\n        44.44444444,  45.        ,  45.55555556,  46.11111111,\n        46.66666667,  47.22222222,  47.77777778,  48.33333333,\n        48.88888889,  49.44444444,  50.        ]),)"
     ]
    }
   ],
   "source": [
    "# Fitting Naive Bayes to the Training set\n",
    "from sklearn.naive_bayes import GaussianNB\n",
    "classifier = GaussianNB()\n",
    "classifier.fit(x_train, y_train)\n",
    "\n",
    "# Predicting the Test set results\n",
    "y_pred = classifier.predict(x_test)"
   ]
  },
  {
   "cell_type": "code",
   "execution_count": 30,
   "metadata": {},
   "outputs": [
    {
     "ename": "NameError",
     "evalue": "name 'y_pred' is not defined",
     "output_type": "error",
     "traceback": [
      "\u001b[0;31m---------------------------------------------------------------------------\u001b[0m",
      "\u001b[0;31mNameError\u001b[0m                                 Traceback (most recent call last)",
      "\u001b[1;32m/Users/gluthfi/Documents/College/Practice of Information/Exercise 3.ipynb Cell 6\u001b[0m in \u001b[0;36m<cell line: 3>\u001b[0;34m()\u001b[0m\n\u001b[1;32m      <a href='vscode-notebook-cell:/Users/gluthfi/Documents/College/Practice%20of%20Information/Exercise%203.ipynb#W6sZmlsZQ%3D%3D?line=0'>1</a>\u001b[0m \u001b[39m# Making the Confusion Matrix\u001b[39;00m\n\u001b[1;32m      <a href='vscode-notebook-cell:/Users/gluthfi/Documents/College/Practice%20of%20Information/Exercise%203.ipynb#W6sZmlsZQ%3D%3D?line=1'>2</a>\u001b[0m \u001b[39mfrom\u001b[39;00m \u001b[39msklearn\u001b[39;00m\u001b[39m.\u001b[39;00m\u001b[39mmetrics\u001b[39;00m \u001b[39mimport\u001b[39;00m confusion_matrix\n\u001b[0;32m----> <a href='vscode-notebook-cell:/Users/gluthfi/Documents/College/Practice%20of%20Information/Exercise%203.ipynb#W6sZmlsZQ%3D%3D?line=2'>3</a>\u001b[0m cm \u001b[39m=\u001b[39m confusion_matrix(y_test, y_pred)\n",
      "\u001b[0;31mNameError\u001b[0m: name 'y_pred' is not defined"
     ]
    }
   ],
   "source": [
    "# Making the Confusion Matrix\n",
    "from sklearn.metrics import confusion_matrix\n",
    "cm = confusion_matrix(y_test, y_pred)"
   ]
  },
  {
   "cell_type": "code",
   "execution_count": null,
   "metadata": {},
   "outputs": [],
   "source": [
    "# Visualising the Training set results\n",
    "from matplotlib.colors import ListedColormap\n",
    "x_set, y_set = x_train, y_train\n",
    "X1, X2 = np.meshgrid(np.arange(start = x_set[:, 0].min() - 1, stop = x_set[:, 0].max() + 1, step = 0.01),\n",
    "                        np.arange(start = x_set[:, 1].min() - 1, stop = x_set[:, 1].max() + 1, step = 0.01))\n",
    "plt.contourf(X1, X2, classifier.predict(np.array([X1.ravel(), X2.ravel()]).T).reshape(X1.shape),\n",
    "            alpha = 0.75, cmap = ListedColormap(('purple', 'green')))\n",
    "plt.xlim(X1.min(), X1.max())\n",
    "plt.ylim(X2.min(), X2.max())\n",
    "for i, j in enumerate(np.unique(y_set)):\n",
    "    plt.scatter(x_set[y_set == j, 0], x_set[y_set == j, 1],\n",
    "                c = ListedColormap(('purple', 'green'))(i), label = j)\n",
    "plt.title('Naive Bayes (Training set)')\n",
    "plt.xlabel('Age')\n",
    "plt.ylabel('Estimated Salary')\n",
    "plt.legend()\n",
    "plt.show()"
   ]
  },
  {
   "cell_type": "code",
   "execution_count": null,
   "metadata": {},
   "outputs": [],
   "source": [
    "# Visualising the Test set results\n",
    "from matplotlib.colors import ListedColormap\n",
    "x_set, y_set = x_test, y_test\n",
    "X1, X2 = np.meshgrid(np.arange(start = x_set[:, 0].min() - 1, stop = x_set[:, 0].max() + 1, step = 0.01),\n",
    "                        np.arange(start = x_set[:, 1].min() - 1, stop = x_set[:, 1].max() + 1, step = 0.01))\n",
    "plt.contourf(X1, X2, classifier.predict(np.array([X1.ravel(), X2.ravel()]).T).reshape(X1.shape),\n",
    "                alpha = 0.75, cmap = ListedColormap(('purple', 'green')))\n",
    "plt.xlim(X1.min(), X1.max())\n",
    "plt.ylim(X2.min(), X2.max())\n",
    "for i, j in enumerate(np.unique(y_set)):\n",
    "    plt.scatter(x_set[y_set == j, 0], x_set[y_set == j, 1],\n",
    "                c = ListedColormap(('purple', 'green'))(i), label = j)\n",
    "plt.title('Naive Bayes (test set)')\n",
    "plt.xlabel('Age')\n",
    "plt.ylabel('Estimated Salary')\n",
    "plt.legend()\n",
    "plt.show()\n",
    "\n",
    "'''\n",
    "# The above output is final output for test set data. As we can see the classifier has created a Gaussian curve to divide the \"purchased\" and \"not purchased\" variables. There are some wrong predictions which we have calculated in Confusion matrix. But still it is pretty good classifier.\n",
    "'''"
   ]
  }
 ],
 "metadata": {
  "kernelspec": {
   "display_name": "Python 3.9.12 ('base')",
   "language": "python",
   "name": "python3"
  },
  "language_info": {
   "codemirror_mode": {
    "name": "ipython",
    "version": 3
   },
   "file_extension": ".py",
   "mimetype": "text/x-python",
   "name": "python",
   "nbconvert_exporter": "python",
   "pygments_lexer": "ipython3",
   "version": "3.9.13 (main, Oct 13 2022, 16:12:19) \n[Clang 12.0.0 ]"
  },
  "orig_nbformat": 4,
  "vscode": {
   "interpreter": {
    "hash": "088693d78dd1a4bfcd2eee1bac04cf08176a6f70cc4ccdefbb235398ced0c7ec"
   }
  }
 },
 "nbformat": 4,
 "nbformat_minor": 2
}
